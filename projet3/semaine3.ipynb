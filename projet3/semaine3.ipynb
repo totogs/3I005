{
 "cells": [
  {
   "cell_type": "markdown",
   "metadata": {},
   "source": [
    "<div style=\"text-align: right\"><small>pierre-henri.wuillemin@lip6.fr<br/>git clone https://gitlab.lip6.fr/phw/projetMdC2018.git\n",
    "<br/>last version : <b>11/04/2018</b><br/>2018-fev</small></div>\n",
    "# 3i005 -Projet 3 - Chaîne de Markov - semaine 3"
   ]
  },
  {
   "cell_type": "markdown",
   "metadata": {},
   "source": [
    "Le  but de cette semaine est l'étude expérimental des méthodes de calcul implémentées."
   ]
  },
  {
   "cell_type": "markdown",
   "metadata": {},
   "source": [
    "## Préambule technique\n",
    "Le projet prendra la forme d'un ensemble de fichiers `python` (**python3**) et un rapport. Il utilisera fortement la programmation objet. Même si ce n'est pas forcément très _pythonesque_, on s'attachera à ce sujet à définir une classe dans un fichier de même nom (sauf si spécification contraire). \n",
    "\n",
    "Ce notebook (`semaine3.ipynb`) est normalement directement exécutable néanmoins, si vous le préférez, vous pouvez également recopier vos codes de test dans un fichier python classique `semaine3.py`. Si vous êtes y êtes habitués ou si vous voulez vous y habituer, n'hésitez pas à utiliser des _frameworks_ de test comme [`nosetest`](http://pythontesting.net/framework/nose/nose-introduction/) , etc. Le rapport devra bien évidemment contenir un préambule technique pour expliquer vos choix et la manière d'exécuter vos codes.\n",
    "\n",
    "> L'énoncé du projet et les sources se trouvent dans le même repository gitlab. Il suffit donc de le mettre à jour :\n",
    "> ```bash\n",
    "> git pull\n",
    "> ```"
   ]
  },
  {
   "cell_type": "markdown",
   "metadata": {},
   "source": [
    "## Instrumentation de `CdMConvergence.py`\n",
    "\n",
    "Afin de pouvoir étudier et comparer le comportement des 4 algorithmes, il est nécessaire de récupérer les données expérimentales pertinentes.\n",
    "### Question 14\n",
    "\n",
    "Enrichir ici le code de `CdMConvergence` afin de pouvoir récupérer les données expérimentales qui nous intéresse. En particulier (mais non exhaustivement, à vois de voir ce que vous voulez montrer en plus dans les comportements) :\n",
    "1. la progression de la qualité de l'estimation en fonction des itérations d'un processus : il s'agit de pouvoir afficher des courbes de la diminution de $\\epsilon$ (l'errur estimée) au cours des itérations. Ceci pour chacune des 3 méthodes itératives.\n",
    "2. le temps de calcul et (si pertinent) le nombre d'itérations nécessaires pour obtenir la valeur de $\\pi^*$ : il s'agit de pouvoir comparer le comportement des différents algorithmes en fonction de la taille de la chaîne de Markov étudié. Ceci pour les 4 méthodes.\n",
    "\n",
    "> *Note* \n",
    "> \n",
    "> Récupérer un temps de calcul et un nombre d'itérations pour des processsus soumis à des aléas n'est pas aisé : on ne peut pas se contenter du calcul d'une valeur lors d'un unique **run**. En effet, la valeur sera bien plus robuste si on calcule plutôt la moyenne (et l'écart-type) sur > un grand nombre de **run**. Donc il s'agira de faire les calculs sur (par exemple) un nombre de **runs** paramétrés dans `CdmConvergence`. Un nombre classique est entre $20$ et $30$."
   ]
  },
  {
   "cell_type": "markdown",
   "metadata": {},
   "source": [
    "### Question 15\n",
    "\n",
    "Discuter les résultats des différentes méthodes pour les Cdm :\n",
    "> 1. MouseInMaze\n",
    "> 2. MonoBestiole\n",
    "> 3. PeriodiCdM dont le code se trouve dans `PeriodicCdM.py`"
   ]
  },
  {
   "cell_type": "markdown",
   "metadata": {},
   "source": [
    "## Jeu de l'Oie généralisée\n",
    "\n",
    "Afin de pouvoir faire des études en fonction de la taille $n$ de la chaîne de Markov, il nous faut définir un processus de génération de CdM de taille $n$. Nous proposons ici de généraliser le jeu de l'oie : `Oie(n)` où `n` sera le nombre de cases du jeu. Voici la définition que nous proposons de suivre :\n",
    "#### Règle du jeu\n",
    "* La carte du jeu de l'oie généralisée est composée de $n$ cases numérotés de $1$ à $n$. \n",
    "* Une partie commence à la case $1$. \n",
    "* À chaque tour, le joueur tire un dé à 6 faces et avance du nombre de cases indiqué par ce tirage. \n",
    "* Le jeu est terminée lorsque le joueur arrive sur la case $n$. Sur les dernières cases, le joueur *rebondit* sur la case $n$ si le tirage du dé lui fait dépasser la case $n$.\n",
    "* Le jeu contient 3 types de cases piègées :\n",
    "  1. les glissades : arriver sur un telle case fait faire un saut en arrière sur une case indiquée sur la carte.\n",
    "  2. les tremplins : arriver sur une telle case fait faire un saut en avant sur une case indiquée sur la carte.\n",
    "  3. les puits : arriver sur une telle case fait passer 2 tours au joueur.\n",
    "  \n",
    "Nous étudions ce jeu à $1$ joueur, car ce qui nous intéresse c'est le processus stochastique formée par la trajectoire du joueur sur la carte.\n",
    "\n",
    "#### Construction d'un `Oie(n)`\n",
    "La génération d'un jeu de l'oie de taille $n$ suivra ces principes :\n",
    "1. Il y a une même probabilité $p$ qu'une case soit une glissade ou un tremplin.\n",
    "2. Il y a une probabilité $q<p$ que la case soit un puits.\n",
    "3. Seulement $1$ case sur $10$ (en moyenne) est piègée.\n",
    "4. Le jeu ne contient pas de boucle (une case tremplin qui amène à une case glissage qui retourne à la case tremplin du départ).\n",
    "\n",
    "### Question 15\n",
    "\n",
    "Proposer dans `Oie.py` un CdM paramétré par `n`.\n",
    "\n",
    "* Un `Oie(n)` est-il forcément une CdM à $n$ états ? \n",
    "* Afin que la CdM formée soit irréductible, on considérera une transition entre la case $n$ et la case $1$ de probabilité $1$ qui indiquera le commencement d'une nouvelle partie.\n",
    "* D'autres paramètres peuvent être considérés. Par exemple : le nombre de face du dé ($d$), la valeur de $p$ et la valeur de $q$.\n",
    "\n",
    "Afficher les graphes de quelques `Oie(20)`\n",
    "\n",
    "### Question 16\n",
    "\n",
    "Dans `CollTempsMoyen.py`, proposer un collecter `CollTempsMoyen(s)` pour calculer le temps moyen de premier retour dans l'état $s$. L'utiliser pour calculer le temps moyen d'une partie du jeu `Oie(n)`."
   ]
  },
  {
   "cell_type": "markdown",
   "metadata": {},
   "source": [
    "### Question 16\n",
    "(question ouverte)\n",
    "\n",
    "Utiliser `Oie(n)` pour discuter du comportement et de la complexité expérimentale des différents algorithmes.\n",
    "\n",
    "** Attention ** `Oie(n)` génère un jeu aléatoire de nombre de cases $n$. Il s'agira de prendre également en compte cet aléas. En particulier :\n",
    "1. Chaque algorithme doit être testeé sur le même jeu de CdM : il ne s'agit pas de générer un ` Oie(n)` différent pour chaque algorithme.\n",
    "2. A contrario, un résultat sur le nombre d'itération d'un algorithme pour `Oie(n)`  ne peut pas être effectué sur la base des résultats d'une unique instance de ` Oie(n)`.\n",
    "\n",
    "La rédaction de cette question (courbes, analyses, etc.) sera importante dans le rapport"
   ]
  },
  {
   "cell_type": "markdown",
   "metadata": {},
   "source": [
    "![Exemble de courbe 1](images/C1.png)\n",
    "<div style=\"text-align: center\"><small>--JUSTE UN EXEMPLE DE COURBE DE SUIVI DE CONVERGENCE--</small></div>"
   ]
  },
  {
   "cell_type": "markdown",
   "metadata": {},
   "source": [
    "![Exemble de courbe 2](images/C2.png)\n",
    "<div style=\"text-align: center\"><small>--JUSTE UN EXEMPLE DE COURBE DE SUIVI DE COMPLEXITE POUR 3 ALGO--</small></div>"
   ]
  },
  {
   "cell_type": "code",
   "execution_count": null,
   "metadata": {},
   "outputs": [],
   "source": []
  }
 ],
 "metadata": {
  "hide_input": false,
  "kernelspec": {
   "display_name": "devAgrum (python3)",
   "language": "python",
   "name": "devagrum"
  },
  "language_info": {
   "codemirror_mode": {
    "name": "ipython",
    "version": 3
   },
   "file_extension": ".py",
   "mimetype": "text/x-python",
   "name": "python",
   "nbconvert_exporter": "python",
   "pygments_lexer": "ipython3",
   "version": "3.5.3"
  }
 },
 "nbformat": 4,
 "nbformat_minor": 2
}
